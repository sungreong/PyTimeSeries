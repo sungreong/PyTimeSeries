{
 "cells": [
  {
   "cell_type": "code",
   "execution_count": 2,
   "metadata": {},
   "outputs": [],
   "source": [
    "%load_ext autoreload\n",
    "%autoreload 2\n",
    "\n",
    "import sys\n",
    "sys.path.append(\"./../\")"
   ]
  },
  {
   "cell_type": "markdown",
   "metadata": {},
   "source": [
    "# Library"
   ]
  },
  {
   "cell_type": "code",
   "execution_count": null,
   "metadata": {},
   "outputs": [],
   "source": [
    "import torch\n",
    "import torch.nn as nn\n",
    "import numpy as np\n",
    "import time\n",
    "import math\n",
    "import matplotlib.pyplot as plt\n",
    "from pathlib import Path\n",
    "import pandas as pd \n",
    "from src.algorithms.transformer.time2vec import t2v , SineActivation\n",
    "import torch\n",
    "from tqdm import tqdm\n",
    "torch.cuda.is_available()\n",
    "from torch.utils.data import Dataset\n",
    "from torch.utils.data import DataLoader"
   ]
  },
  {
   "cell_type": "markdown",
   "metadata": {},
   "source": [
    "# Data"
   ]
  },
  {
   "cell_type": "code",
   "execution_count": 3,
   "metadata": {},
   "outputs": [
    {
     "name": "stdout",
     "output_type": "stream",
     "text": [
      "[*********************100%***********************]  1 of 1 completed\n"
     ]
    },
    {
     "data": {
      "text/html": [
       "<div>\n",
       "<style scoped>\n",
       "    .dataframe tbody tr th:only-of-type {\n",
       "        vertical-align: middle;\n",
       "    }\n",
       "\n",
       "    .dataframe tbody tr th {\n",
       "        vertical-align: top;\n",
       "    }\n",
       "\n",
       "    .dataframe thead th {\n",
       "        text-align: right;\n",
       "    }\n",
       "</style>\n",
       "<table border=\"1\" class=\"dataframe\">\n",
       "  <thead>\n",
       "    <tr style=\"text-align: right;\">\n",
       "      <th></th>\n",
       "      <th>Open</th>\n",
       "      <th>High</th>\n",
       "      <th>Low</th>\n",
       "      <th>Close</th>\n",
       "      <th>Adj_Close</th>\n",
       "      <th>Volume</th>\n",
       "    </tr>\n",
       "    <tr>\n",
       "      <th>Date</th>\n",
       "      <th></th>\n",
       "      <th></th>\n",
       "      <th></th>\n",
       "      <th></th>\n",
       "      <th></th>\n",
       "      <th></th>\n",
       "    </tr>\n",
       "  </thead>\n",
       "  <tbody>\n",
       "    <tr>\n",
       "      <th>2017-01-03</th>\n",
       "      <td>2251.570068</td>\n",
       "      <td>2263.879883</td>\n",
       "      <td>2245.129883</td>\n",
       "      <td>2257.830078</td>\n",
       "      <td>2257.830078</td>\n",
       "      <td>3770530000</td>\n",
       "    </tr>\n",
       "    <tr>\n",
       "      <th>2017-01-04</th>\n",
       "      <td>2261.600098</td>\n",
       "      <td>2272.820068</td>\n",
       "      <td>2261.600098</td>\n",
       "      <td>2270.750000</td>\n",
       "      <td>2270.750000</td>\n",
       "      <td>3764890000</td>\n",
       "    </tr>\n",
       "    <tr>\n",
       "      <th>2017-01-05</th>\n",
       "      <td>2268.179932</td>\n",
       "      <td>2271.500000</td>\n",
       "      <td>2260.449951</td>\n",
       "      <td>2269.000000</td>\n",
       "      <td>2269.000000</td>\n",
       "      <td>3761820000</td>\n",
       "    </tr>\n",
       "    <tr>\n",
       "      <th>2017-01-06</th>\n",
       "      <td>2271.139893</td>\n",
       "      <td>2282.100098</td>\n",
       "      <td>2264.060059</td>\n",
       "      <td>2276.979980</td>\n",
       "      <td>2276.979980</td>\n",
       "      <td>3339890000</td>\n",
       "    </tr>\n",
       "    <tr>\n",
       "      <th>2017-01-09</th>\n",
       "      <td>2273.590088</td>\n",
       "      <td>2275.489990</td>\n",
       "      <td>2268.899902</td>\n",
       "      <td>2268.899902</td>\n",
       "      <td>2268.899902</td>\n",
       "      <td>3217610000</td>\n",
       "    </tr>\n",
       "  </tbody>\n",
       "</table>\n",
       "</div>"
      ],
      "text/plain": [
       "                   Open         High          Low        Close    Adj_Close  \\\n",
       "Date                                                                          \n",
       "2017-01-03  2251.570068  2263.879883  2245.129883  2257.830078  2257.830078   \n",
       "2017-01-04  2261.600098  2272.820068  2261.600098  2270.750000  2270.750000   \n",
       "2017-01-05  2268.179932  2271.500000  2260.449951  2269.000000  2269.000000   \n",
       "2017-01-06  2271.139893  2282.100098  2264.060059  2276.979980  2276.979980   \n",
       "2017-01-09  2273.590088  2275.489990  2268.899902  2268.899902  2268.899902   \n",
       "\n",
       "                Volume  \n",
       "Date                    \n",
       "2017-01-03  3770530000  \n",
       "2017-01-04  3764890000  \n",
       "2017-01-05  3761820000  \n",
       "2017-01-06  3339890000  \n",
       "2017-01-09  3217610000  "
      ]
     },
     "execution_count": 3,
     "metadata": {},
     "output_type": "execute_result"
    }
   ],
   "source": [
    "from datetime import datetime \n",
    "\n",
    "today = datetime.strftime(datetime.today(),\"%Y-%m-%d\")\n",
    "import yfinance as yf\n",
    "# Request historical data for past 5 years\n",
    "df = yf.download(\"^GSPC\", start='2017-01-01', end=today)\n",
    "df.columns = [i.replace(\" \", \"_\") for i in list(df)]\n",
    "df.head()"
   ]
  },
  {
   "cell_type": "markdown",
   "metadata": {},
   "source": [
    "# Data Preprocessing"
   ]
  },
  {
   "cell_type": "markdown",
   "metadata": {},
   "source": [
    "## Scaler"
   ]
  },
  {
   "cell_type": "code",
   "execution_count": 5,
   "metadata": {},
   "outputs": [],
   "source": [
    "from sklearn.preprocessing import MinMaxScaler\n",
    "scaled_data = []\n",
    "for col in list(df) :\n",
    "    min_ , max_ = df[col].min() , df[col].max()\n",
    "    min_value = 0.9 * min_\n",
    "    max_value = 1.1 * max_\n",
    "    scaled_data.append(np.array([min_value , max_value]).reshape(-1,1))\n",
    "else :\n",
    "    scaled_info = np.hstack(scaled_data)\n",
    "    col_order = list(df)\n",
    "    scaler = MinMaxScaler(feature_range=(0,1))\n",
    "    scaler.fit(scaled_info)"
   ]
  },
  {
   "cell_type": "code",
   "execution_count": 6,
   "metadata": {},
   "outputs": [],
   "source": [
    "df[col_order] = scaler.transform(df[col_order].values)"
   ]
  },
  {
   "cell_type": "code",
   "execution_count": 7,
   "metadata": {},
   "outputs": [
    {
     "data": {
      "text/html": [
       "<div>\n",
       "<style scoped>\n",
       "    .dataframe tbody tr th:only-of-type {\n",
       "        vertical-align: middle;\n",
       "    }\n",
       "\n",
       "    .dataframe tbody tr th {\n",
       "        vertical-align: top;\n",
       "    }\n",
       "\n",
       "    .dataframe thead th {\n",
       "        text-align: right;\n",
       "    }\n",
       "</style>\n",
       "<table border=\"1\" class=\"dataframe\">\n",
       "  <thead>\n",
       "    <tr style=\"text-align: right;\">\n",
       "      <th></th>\n",
       "      <th>Open</th>\n",
       "      <th>High</th>\n",
       "      <th>Low</th>\n",
       "      <th>Close</th>\n",
       "      <th>Adj_Close</th>\n",
       "      <th>Volume</th>\n",
       "    </tr>\n",
       "    <tr>\n",
       "      <th>Date</th>\n",
       "      <th></th>\n",
       "      <th></th>\n",
       "      <th></th>\n",
       "      <th></th>\n",
       "      <th></th>\n",
       "      <th></th>\n",
       "    </tr>\n",
       "  </thead>\n",
       "  <tbody>\n",
       "    <tr>\n",
       "      <th>2017-01-03</th>\n",
       "      <td>0.069097</td>\n",
       "      <td>0.069381</td>\n",
       "      <td>0.082930</td>\n",
       "      <td>0.074840</td>\n",
       "      <td>0.074840</td>\n",
       "      <td>0.268446</td>\n",
       "    </tr>\n",
       "    <tr>\n",
       "      <th>2017-01-04</th>\n",
       "      <td>0.072175</td>\n",
       "      <td>0.072120</td>\n",
       "      <td>0.087943</td>\n",
       "      <td>0.078800</td>\n",
       "      <td>0.078800</td>\n",
       "      <td>0.267864</td>\n",
       "    </tr>\n",
       "    <tr>\n",
       "      <th>2017-01-05</th>\n",
       "      <td>0.074195</td>\n",
       "      <td>0.071716</td>\n",
       "      <td>0.087593</td>\n",
       "      <td>0.078264</td>\n",
       "      <td>0.078264</td>\n",
       "      <td>0.267548</td>\n",
       "    </tr>\n",
       "    <tr>\n",
       "      <th>2017-01-06</th>\n",
       "      <td>0.075103</td>\n",
       "      <td>0.074964</td>\n",
       "      <td>0.088692</td>\n",
       "      <td>0.080710</td>\n",
       "      <td>0.080710</td>\n",
       "      <td>0.224045</td>\n",
       "    </tr>\n",
       "    <tr>\n",
       "      <th>2017-01-09</th>\n",
       "      <td>0.075855</td>\n",
       "      <td>0.072939</td>\n",
       "      <td>0.090165</td>\n",
       "      <td>0.078233</td>\n",
       "      <td>0.078233</td>\n",
       "      <td>0.211438</td>\n",
       "    </tr>\n",
       "  </tbody>\n",
       "</table>\n",
       "</div>"
      ],
      "text/plain": [
       "                Open      High       Low     Close  Adj_Close    Volume\n",
       "Date                                                                   \n",
       "2017-01-03  0.069097  0.069381  0.082930  0.074840   0.074840  0.268446\n",
       "2017-01-04  0.072175  0.072120  0.087943  0.078800   0.078800  0.267864\n",
       "2017-01-05  0.074195  0.071716  0.087593  0.078264   0.078264  0.267548\n",
       "2017-01-06  0.075103  0.074964  0.088692  0.080710   0.080710  0.224045\n",
       "2017-01-09  0.075855  0.072939  0.090165  0.078233   0.078233  0.211438"
      ]
     },
     "execution_count": 7,
     "metadata": {},
     "output_type": "execute_result"
    }
   ],
   "source": [
    "df.head()"
   ]
  },
  {
   "cell_type": "markdown",
   "metadata": {},
   "source": [
    "## Add New Features"
   ]
  },
  {
   "cell_type": "code",
   "execution_count": 8,
   "metadata": {},
   "outputs": [
    {
     "name": "stderr",
     "output_type": "stream",
     "text": [
      "/tmp/ipykernel_2230126/3890873609.py:10: FutureWarning: Series.dt.weekofyear and Series.dt.week have been deprecated. Please use Series.dt.isocalendar().week instead.\n",
      "  df['weekofyear'] = df['date'].dt.weekofyear\n"
     ]
    }
   ],
   "source": [
    "df = df.reset_index(drop=False)\n",
    "df['date'] = pd.to_datetime(df['Date'])\n",
    "df['year'] = df['date'].dt.year\n",
    "df['month'] = df['date'].dt.month\n",
    "df['day'] = df['date'].dt.day\n",
    "df['dayofweek'] = df['date'].dt.dayofweek\n",
    "df['dayofmonth'] = df['date'].dt.days_in_month\n",
    "df['dayofyear'] = df['date'].dt.dayofyear\n",
    "df['weekday'] = df['date'].dt.weekday\n",
    "df['weekofyear'] = df['date'].dt.weekofyear\n",
    "df.drop(columns = [\"year\",'date','Date'], inplace = True)\n",
    "all_data = pd.get_dummies(df,columns=[\"month\",\"day\",\"dayofweek\",\"dayofmonth\",\"dayofyear\",\"weekday\",\"weekofyear\"])\n"
   ]
  },
  {
   "cell_type": "code",
   "execution_count": 9,
   "metadata": {},
   "outputs": [
    {
     "data": {
      "text/html": [
       "<div>\n",
       "<style scoped>\n",
       "    .dataframe tbody tr th:only-of-type {\n",
       "        vertical-align: middle;\n",
       "    }\n",
       "\n",
       "    .dataframe tbody tr th {\n",
       "        vertical-align: top;\n",
       "    }\n",
       "\n",
       "    .dataframe thead th {\n",
       "        text-align: right;\n",
       "    }\n",
       "</style>\n",
       "<table border=\"1\" class=\"dataframe\">\n",
       "  <thead>\n",
       "    <tr style=\"text-align: right;\">\n",
       "      <th></th>\n",
       "      <th>Open</th>\n",
       "      <th>High</th>\n",
       "      <th>Low</th>\n",
       "      <th>Close</th>\n",
       "      <th>Adj_Close</th>\n",
       "      <th>Volume</th>\n",
       "      <th>month_1</th>\n",
       "      <th>month_2</th>\n",
       "      <th>month_3</th>\n",
       "      <th>month_4</th>\n",
       "      <th>...</th>\n",
       "      <th>weekofyear_44</th>\n",
       "      <th>weekofyear_45</th>\n",
       "      <th>weekofyear_46</th>\n",
       "      <th>weekofyear_47</th>\n",
       "      <th>weekofyear_48</th>\n",
       "      <th>weekofyear_49</th>\n",
       "      <th>weekofyear_50</th>\n",
       "      <th>weekofyear_51</th>\n",
       "      <th>weekofyear_52</th>\n",
       "      <th>weekofyear_53</th>\n",
       "    </tr>\n",
       "  </thead>\n",
       "  <tbody>\n",
       "    <tr>\n",
       "      <th>0</th>\n",
       "      <td>0.069097</td>\n",
       "      <td>0.069381</td>\n",
       "      <td>0.082930</td>\n",
       "      <td>0.074840</td>\n",
       "      <td>0.074840</td>\n",
       "      <td>0.268446</td>\n",
       "      <td>1</td>\n",
       "      <td>0</td>\n",
       "      <td>0</td>\n",
       "      <td>0</td>\n",
       "      <td>...</td>\n",
       "      <td>0</td>\n",
       "      <td>0</td>\n",
       "      <td>0</td>\n",
       "      <td>0</td>\n",
       "      <td>0</td>\n",
       "      <td>0</td>\n",
       "      <td>0</td>\n",
       "      <td>0</td>\n",
       "      <td>0</td>\n",
       "      <td>0</td>\n",
       "    </tr>\n",
       "    <tr>\n",
       "      <th>1</th>\n",
       "      <td>0.072175</td>\n",
       "      <td>0.072120</td>\n",
       "      <td>0.087943</td>\n",
       "      <td>0.078800</td>\n",
       "      <td>0.078800</td>\n",
       "      <td>0.267864</td>\n",
       "      <td>1</td>\n",
       "      <td>0</td>\n",
       "      <td>0</td>\n",
       "      <td>0</td>\n",
       "      <td>...</td>\n",
       "      <td>0</td>\n",
       "      <td>0</td>\n",
       "      <td>0</td>\n",
       "      <td>0</td>\n",
       "      <td>0</td>\n",
       "      <td>0</td>\n",
       "      <td>0</td>\n",
       "      <td>0</td>\n",
       "      <td>0</td>\n",
       "      <td>0</td>\n",
       "    </tr>\n",
       "    <tr>\n",
       "      <th>2</th>\n",
       "      <td>0.074195</td>\n",
       "      <td>0.071716</td>\n",
       "      <td>0.087593</td>\n",
       "      <td>0.078264</td>\n",
       "      <td>0.078264</td>\n",
       "      <td>0.267548</td>\n",
       "      <td>1</td>\n",
       "      <td>0</td>\n",
       "      <td>0</td>\n",
       "      <td>0</td>\n",
       "      <td>...</td>\n",
       "      <td>0</td>\n",
       "      <td>0</td>\n",
       "      <td>0</td>\n",
       "      <td>0</td>\n",
       "      <td>0</td>\n",
       "      <td>0</td>\n",
       "      <td>0</td>\n",
       "      <td>0</td>\n",
       "      <td>0</td>\n",
       "      <td>0</td>\n",
       "    </tr>\n",
       "    <tr>\n",
       "      <th>3</th>\n",
       "      <td>0.075103</td>\n",
       "      <td>0.074964</td>\n",
       "      <td>0.088692</td>\n",
       "      <td>0.080710</td>\n",
       "      <td>0.080710</td>\n",
       "      <td>0.224045</td>\n",
       "      <td>1</td>\n",
       "      <td>0</td>\n",
       "      <td>0</td>\n",
       "      <td>0</td>\n",
       "      <td>...</td>\n",
       "      <td>0</td>\n",
       "      <td>0</td>\n",
       "      <td>0</td>\n",
       "      <td>0</td>\n",
       "      <td>0</td>\n",
       "      <td>0</td>\n",
       "      <td>0</td>\n",
       "      <td>0</td>\n",
       "      <td>0</td>\n",
       "      <td>0</td>\n",
       "    </tr>\n",
       "    <tr>\n",
       "      <th>4</th>\n",
       "      <td>0.075855</td>\n",
       "      <td>0.072939</td>\n",
       "      <td>0.090165</td>\n",
       "      <td>0.078233</td>\n",
       "      <td>0.078233</td>\n",
       "      <td>0.211438</td>\n",
       "      <td>1</td>\n",
       "      <td>0</td>\n",
       "      <td>0</td>\n",
       "      <td>0</td>\n",
       "      <td>...</td>\n",
       "      <td>0</td>\n",
       "      <td>0</td>\n",
       "      <td>0</td>\n",
       "      <td>0</td>\n",
       "      <td>0</td>\n",
       "      <td>0</td>\n",
       "      <td>0</td>\n",
       "      <td>0</td>\n",
       "      <td>0</td>\n",
       "      <td>0</td>\n",
       "    </tr>\n",
       "  </tbody>\n",
       "</table>\n",
       "<p>5 rows × 480 columns</p>\n",
       "</div>"
      ],
      "text/plain": [
       "       Open      High       Low     Close  Adj_Close    Volume  month_1  \\\n",
       "0  0.069097  0.069381  0.082930  0.074840   0.074840  0.268446        1   \n",
       "1  0.072175  0.072120  0.087943  0.078800   0.078800  0.267864        1   \n",
       "2  0.074195  0.071716  0.087593  0.078264   0.078264  0.267548        1   \n",
       "3  0.075103  0.074964  0.088692  0.080710   0.080710  0.224045        1   \n",
       "4  0.075855  0.072939  0.090165  0.078233   0.078233  0.211438        1   \n",
       "\n",
       "   month_2  month_3  month_4  ...  weekofyear_44  weekofyear_45  \\\n",
       "0        0        0        0  ...              0              0   \n",
       "1        0        0        0  ...              0              0   \n",
       "2        0        0        0  ...              0              0   \n",
       "3        0        0        0  ...              0              0   \n",
       "4        0        0        0  ...              0              0   \n",
       "\n",
       "   weekofyear_46  weekofyear_47  weekofyear_48  weekofyear_49  weekofyear_50  \\\n",
       "0              0              0              0              0              0   \n",
       "1              0              0              0              0              0   \n",
       "2              0              0              0              0              0   \n",
       "3              0              0              0              0              0   \n",
       "4              0              0              0              0              0   \n",
       "\n",
       "   weekofyear_51  weekofyear_52  weekofyear_53  \n",
       "0              0              0              0  \n",
       "1              0              0              0  \n",
       "2              0              0              0  \n",
       "3              0              0              0  \n",
       "4              0              0              0  \n",
       "\n",
       "[5 rows x 480 columns]"
      ]
     },
     "execution_count": 9,
     "metadata": {},
     "output_type": "execute_result"
    }
   ],
   "source": [
    "all_data.head()"
   ]
  },
  {
   "cell_type": "code",
   "execution_count": 10,
   "metadata": {},
   "outputs": [],
   "source": [
    "target_col = \"Adj_Close\"\n",
    "\n",
    "y = all_data[target_col].values\n",
    "y_orig = all_data[target_col].values"
   ]
  },
  {
   "cell_type": "code",
   "execution_count": 11,
   "metadata": {},
   "outputs": [
    {
     "data": {
      "text/plain": [
       "(1312, 480)"
      ]
     },
     "execution_count": 11,
     "metadata": {},
     "output_type": "execute_result"
    }
   ],
   "source": [
    "all_data.shape"
   ]
  },
  {
   "cell_type": "code",
   "execution_count": 13,
   "metadata": {},
   "outputs": [
    {
     "data": {
      "text/html": [
       "<div>\n",
       "<style scoped>\n",
       "    .dataframe tbody tr th:only-of-type {\n",
       "        vertical-align: middle;\n",
       "    }\n",
       "\n",
       "    .dataframe tbody tr th {\n",
       "        vertical-align: top;\n",
       "    }\n",
       "\n",
       "    .dataframe thead th {\n",
       "        text-align: right;\n",
       "    }\n",
       "</style>\n",
       "<table border=\"1\" class=\"dataframe\">\n",
       "  <thead>\n",
       "    <tr style=\"text-align: right;\">\n",
       "      <th></th>\n",
       "      <th>Open</th>\n",
       "      <th>High</th>\n",
       "      <th>Low</th>\n",
       "      <th>Close</th>\n",
       "      <th>Adj_Close</th>\n",
       "      <th>Volume</th>\n",
       "      <th>month_1</th>\n",
       "      <th>month_2</th>\n",
       "      <th>month_3</th>\n",
       "      <th>month_4</th>\n",
       "      <th>...</th>\n",
       "      <th>weekofyear_44</th>\n",
       "      <th>weekofyear_45</th>\n",
       "      <th>weekofyear_46</th>\n",
       "      <th>weekofyear_47</th>\n",
       "      <th>weekofyear_48</th>\n",
       "      <th>weekofyear_49</th>\n",
       "      <th>weekofyear_50</th>\n",
       "      <th>weekofyear_51</th>\n",
       "      <th>weekofyear_52</th>\n",
       "      <th>weekofyear_53</th>\n",
       "    </tr>\n",
       "  </thead>\n",
       "  <tbody>\n",
       "    <tr>\n",
       "      <th>0</th>\n",
       "      <td>0.069097</td>\n",
       "      <td>0.069381</td>\n",
       "      <td>0.082930</td>\n",
       "      <td>0.074840</td>\n",
       "      <td>0.074840</td>\n",
       "      <td>0.268446</td>\n",
       "      <td>1</td>\n",
       "      <td>0</td>\n",
       "      <td>0</td>\n",
       "      <td>0</td>\n",
       "      <td>...</td>\n",
       "      <td>0</td>\n",
       "      <td>0</td>\n",
       "      <td>0</td>\n",
       "      <td>0</td>\n",
       "      <td>0</td>\n",
       "      <td>0</td>\n",
       "      <td>0</td>\n",
       "      <td>0</td>\n",
       "      <td>0</td>\n",
       "      <td>0</td>\n",
       "    </tr>\n",
       "    <tr>\n",
       "      <th>1</th>\n",
       "      <td>0.072175</td>\n",
       "      <td>0.072120</td>\n",
       "      <td>0.087943</td>\n",
       "      <td>0.078800</td>\n",
       "      <td>0.078800</td>\n",
       "      <td>0.267864</td>\n",
       "      <td>1</td>\n",
       "      <td>0</td>\n",
       "      <td>0</td>\n",
       "      <td>0</td>\n",
       "      <td>...</td>\n",
       "      <td>0</td>\n",
       "      <td>0</td>\n",
       "      <td>0</td>\n",
       "      <td>0</td>\n",
       "      <td>0</td>\n",
       "      <td>0</td>\n",
       "      <td>0</td>\n",
       "      <td>0</td>\n",
       "      <td>0</td>\n",
       "      <td>0</td>\n",
       "    </tr>\n",
       "    <tr>\n",
       "      <th>2</th>\n",
       "      <td>0.074195</td>\n",
       "      <td>0.071716</td>\n",
       "      <td>0.087593</td>\n",
       "      <td>0.078264</td>\n",
       "      <td>0.078264</td>\n",
       "      <td>0.267548</td>\n",
       "      <td>1</td>\n",
       "      <td>0</td>\n",
       "      <td>0</td>\n",
       "      <td>0</td>\n",
       "      <td>...</td>\n",
       "      <td>0</td>\n",
       "      <td>0</td>\n",
       "      <td>0</td>\n",
       "      <td>0</td>\n",
       "      <td>0</td>\n",
       "      <td>0</td>\n",
       "      <td>0</td>\n",
       "      <td>0</td>\n",
       "      <td>0</td>\n",
       "      <td>0</td>\n",
       "    </tr>\n",
       "    <tr>\n",
       "      <th>3</th>\n",
       "      <td>0.075103</td>\n",
       "      <td>0.074964</td>\n",
       "      <td>0.088692</td>\n",
       "      <td>0.080710</td>\n",
       "      <td>0.080710</td>\n",
       "      <td>0.224045</td>\n",
       "      <td>1</td>\n",
       "      <td>0</td>\n",
       "      <td>0</td>\n",
       "      <td>0</td>\n",
       "      <td>...</td>\n",
       "      <td>0</td>\n",
       "      <td>0</td>\n",
       "      <td>0</td>\n",
       "      <td>0</td>\n",
       "      <td>0</td>\n",
       "      <td>0</td>\n",
       "      <td>0</td>\n",
       "      <td>0</td>\n",
       "      <td>0</td>\n",
       "      <td>0</td>\n",
       "    </tr>\n",
       "    <tr>\n",
       "      <th>4</th>\n",
       "      <td>0.075855</td>\n",
       "      <td>0.072939</td>\n",
       "      <td>0.090165</td>\n",
       "      <td>0.078233</td>\n",
       "      <td>0.078233</td>\n",
       "      <td>0.211438</td>\n",
       "      <td>1</td>\n",
       "      <td>0</td>\n",
       "      <td>0</td>\n",
       "      <td>0</td>\n",
       "      <td>...</td>\n",
       "      <td>0</td>\n",
       "      <td>0</td>\n",
       "      <td>0</td>\n",
       "      <td>0</td>\n",
       "      <td>0</td>\n",
       "      <td>0</td>\n",
       "      <td>0</td>\n",
       "      <td>0</td>\n",
       "      <td>0</td>\n",
       "      <td>0</td>\n",
       "    </tr>\n",
       "  </tbody>\n",
       "</table>\n",
       "<p>5 rows × 480 columns</p>\n",
       "</div>"
      ],
      "text/plain": [
       "       Open      High       Low     Close  Adj_Close    Volume  month_1  \\\n",
       "0  0.069097  0.069381  0.082930  0.074840   0.074840  0.268446        1   \n",
       "1  0.072175  0.072120  0.087943  0.078800   0.078800  0.267864        1   \n",
       "2  0.074195  0.071716  0.087593  0.078264   0.078264  0.267548        1   \n",
       "3  0.075103  0.074964  0.088692  0.080710   0.080710  0.224045        1   \n",
       "4  0.075855  0.072939  0.090165  0.078233   0.078233  0.211438        1   \n",
       "\n",
       "   month_2  month_3  month_4  ...  weekofyear_44  weekofyear_45  \\\n",
       "0        0        0        0  ...              0              0   \n",
       "1        0        0        0  ...              0              0   \n",
       "2        0        0        0  ...              0              0   \n",
       "3        0        0        0  ...              0              0   \n",
       "4        0        0        0  ...              0              0   \n",
       "\n",
       "   weekofyear_46  weekofyear_47  weekofyear_48  weekofyear_49  weekofyear_50  \\\n",
       "0              0              0              0              0              0   \n",
       "1              0              0              0              0              0   \n",
       "2              0              0              0              0              0   \n",
       "3              0              0              0              0              0   \n",
       "4              0              0              0              0              0   \n",
       "\n",
       "   weekofyear_51  weekofyear_52  weekofyear_53  \n",
       "0              0              0              0  \n",
       "1              0              0              0  \n",
       "2              0              0              0  \n",
       "3              0              0              0  \n",
       "4              0              0              0  \n",
       "\n",
       "[5 rows x 480 columns]"
      ]
     },
     "execution_count": 13,
     "metadata": {},
     "output_type": "execute_result"
    }
   ],
   "source": [
    "all_data.head()"
   ]
  },
  {
   "cell_type": "markdown",
   "metadata": {},
   "source": [
    "## Make TimeSeries Data"
   ]
  },
  {
   "cell_type": "code",
   "execution_count": 15,
   "metadata": {},
   "outputs": [],
   "source": [
    "x_train = all_data\n",
    "y_train = all_data[target_col]\n",
    "WINDOW_SIZE = 20"
   ]
  },
  {
   "cell_type": "code",
   "execution_count": 16,
   "metadata": {},
   "outputs": [],
   "source": [
    "\n",
    "def create_inout_sequences(input_data,target_data, tw, output_window):\n",
    "    input_seq = []\n",
    "    output_seq = []\n",
    "    L = len(input_data)\n",
    "    for i in range(L-tw):\n",
    "        train_seq = input_data[i:i+tw]\n",
    "        train_label = target_data[i+output_window:i+tw+output_window]\n",
    "        input_seq.append(train_seq)\n",
    "        output_seq.append(train_label)\n",
    "    return np.array(input_seq) , np.array(output_seq)[:,:, np.newaxis]"
   ]
  },
  {
   "cell_type": "code",
   "execution_count": 17,
   "metadata": {},
   "outputs": [
    {
     "data": {
      "text/plain": [
       "((1000, 480), (312, 480))"
      ]
     },
     "execution_count": 17,
     "metadata": {},
     "output_type": "execute_result"
    }
   ],
   "source": [
    "N_Train_Test_Split = 1000\n",
    "train = all_data[:N_Train_Test_Split]\n",
    "valid = all_data[N_Train_Test_Split:]\n",
    "train.shape , valid.shape"
   ]
  },
  {
   "cell_type": "code",
   "execution_count": 18,
   "metadata": {},
   "outputs": [],
   "source": [
    "x_train_ts , y_train_ts = create_inout_sequences(train.values , train[target_col], tw= WINDOW_SIZE , output_window=1)\n",
    "x_valid_ts , y_valid_ts = create_inout_sequences(valid.values , valid[target_col], tw= WINDOW_SIZE , output_window=1)"
   ]
  },
  {
   "cell_type": "markdown",
   "metadata": {},
   "source": [
    "# Torch Function"
   ]
  },
  {
   "cell_type": "code",
   "execution_count": 38,
   "metadata": {},
   "outputs": [],
   "source": [
    "def evaluate(eval_model, data_loader):\n",
    "    eval_model.eval() # Turn on the evaluation mode\n",
    "    total_loss = 0.\n",
    "    with torch.no_grad():\n",
    "        for batch_idx , samples in enumerate(data_loader) :\n",
    "            x_train , y_train = samples\n",
    "            output = eval_model(x_train)            \n",
    "            total_loss +=  criterion(output, y_train).cpu().item()\n",
    "    return total_loss / batch_idx\n",
    "    \n",
    "def plot_and_loss(eval_model , data_loader , epoch , folder , device ) :\n",
    "    eval_model.eval() \n",
    "    test_result = torch.Tensor(0)    \n",
    "    truth = torch.Tensor(0)\n",
    "    total_loss = 0.\n",
    "    with torch.no_grad():\n",
    "        for batch_idx , (x , y) in enumerate(data_loader) :\n",
    "            pred = model(x.to(device))\n",
    "            _ = y[:,-1].squeeze().cpu()\n",
    "            truth = torch.cat((truth, _), 0)\n",
    "            _ = pred[:,-1].squeeze().cpu()\n",
    "            total_loss += criterion(pred.cpu(), y.cpu()).item()\n",
    "\n",
    "            test_result = torch.cat((test_result, _), 0)\n",
    "        else :\n",
    "            total_loss /= batch_idx \n",
    "            plt.plot(test_result.detach().numpy(),color=\"red\")\n",
    "            plt.plot(truth.detach().numpy(),color=\"blue\")\n",
    "            plt.plot((test_result-truth).detach().numpy(),color=\"green\")\n",
    "            plt.title(f\"Loss : {total_loss:.5f}\")\n",
    "            plt.grid(True, which='both')\n",
    "            plt.axhline(y=0, color='k')\n",
    "            fig_path = f'{folder}/epoch{epoch:05d}.png'\n",
    "            filepath = Path(fig_path)\n",
    "            filepath.parent.mkdir(parents=True, exist_ok=True)\n",
    "            plt.savefig(filepath)\n",
    "            plt.close()\n",
    "            return total_loss \n",
    "\n",
    "class TransAm(nn.Module):\n",
    "    def __init__(self,time_dim = 16 , feature_size=250,num_layers=1,dropout=0.1,nhead=6,device=\"cpu\"):\n",
    "        super(TransAm, self).__init__()\n",
    "        self.model_type = 'Transformer'\n",
    "        \n",
    "        self.src_mask = None\n",
    "        self.time_vec = SineActivation(feature_size,time_dim ).to(device)\n",
    "        output_size = 2*time_dim+feature_size\n",
    "        self.encoder_layer = nn.TransformerEncoderLayer(d_model=output_size, nhead=nhead, dropout=dropout)\n",
    "        self.transformer_encoder = nn.TransformerEncoder(self.encoder_layer, num_layers=num_layers)        \n",
    "        self.decoder = nn.Linear(output_size,1)\n",
    "        self.init_weights()\n",
    "\n",
    "    def init_weights(self):\n",
    "        initrange = 0.1    \n",
    "        self.decoder.bias.data.zero_()\n",
    "        self.decoder.weight.data.uniform_(-initrange, initrange)\n",
    "\n",
    "    def forward(self,src):\n",
    "        if self.src_mask is None or self.src_mask.size(0) != len(src):\n",
    "            device = src.device\n",
    "            mask = self._generate_square_subsequent_mask(len(src)).to(device)\n",
    "            self.src_mask = mask\n",
    "\n",
    "        time_src = self.time_vec(src)\n",
    "        src = torch.cat((src, time_src),axis=-1)\n",
    "        output = self.transformer_encoder(src,self.src_mask)#, self.src_mask)\n",
    "        output = self.decoder(output)\n",
    "        return output\n",
    "\n",
    "    def _generate_square_subsequent_mask(self, sz):\n",
    "        mask = (torch.triu(torch.ones(sz, sz)) == 1).transpose(0, 1)\n",
    "        mask = mask.float().masked_fill(mask == 0, float('-inf')).masked_fill(mask == 1, float(0.0))\n",
    "        return mask\n",
    "\n",
    "\n",
    "\n",
    "class CustomDataset(Dataset): \n",
    "  def __init__(self , x_data ,y_data):\n",
    "    self.x_data = x_data\n",
    "    self.y_data = y_data\n",
    "    self.device= device \n",
    "\n",
    "  # 총 데이터의 개수를 리턴\n",
    "  def __len__(self): \n",
    "    return len(self.x_data)\n",
    "\n",
    "  # 인덱스를 입력받아 그에 맵핑되는 입출력 데이터를 파이토치의 Tensor 형태로 리턴\n",
    "  def __getitem__(self, idx): \n",
    "    x = torch.FloatTensor(self.x_data[idx])\n",
    "    y = torch.FloatTensor(self.y_data[idx])\n",
    "    return x, y"
   ]
  },
  {
   "cell_type": "code",
   "execution_count": 21,
   "metadata": {},
   "outputs": [],
   "source": [
    "device = \"cuda:1\"\n",
    "model = TransAm(time_dim=16 , feature_size=480 ,num_layers=1,dropout=0.1,nhead=8,device= device)\n",
    "model = model.to(device)"
   ]
  },
  {
   "cell_type": "code",
   "execution_count": 22,
   "metadata": {},
   "outputs": [],
   "source": []
  },
  {
   "cell_type": "code",
   "execution_count": 23,
   "metadata": {},
   "outputs": [
    {
     "data": {
      "text/plain": [
       "(980, 20, 480)"
      ]
     },
     "execution_count": 23,
     "metadata": {},
     "output_type": "execute_result"
    }
   ],
   "source": [
    "x_train_ts.shape"
   ]
  },
  {
   "cell_type": "code",
   "execution_count": 24,
   "metadata": {},
   "outputs": [
    {
     "data": {
      "text/plain": [
       "((980, 20, 480), (980, 20, 1))"
      ]
     },
     "execution_count": 24,
     "metadata": {},
     "output_type": "execute_result"
    }
   ],
   "source": [
    "x_train_ts.shape , y_train_ts.shape"
   ]
  },
  {
   "cell_type": "code",
   "execution_count": 25,
   "metadata": {},
   "outputs": [],
   "source": [
    "tr_dataset = CustomDataset(x_data= x_train_ts,y_data =y_train_ts)\n",
    "va_dataset = CustomDataset(x_data= x_valid_ts,y_data =y_valid_ts)\n",
    "dataloader = DataLoader(tr_dataset, batch_size=2, shuffle=True)\n"
   ]
  },
  {
   "cell_type": "code",
   "execution_count": 26,
   "metadata": {},
   "outputs": [
    {
     "data": {
      "text/plain": [
       "(980, 20, 1)"
      ]
     },
     "execution_count": 26,
     "metadata": {},
     "output_type": "execute_result"
    }
   ],
   "source": [
    "y_train_ts.shape"
   ]
  },
  {
   "cell_type": "code",
   "execution_count": 27,
   "metadata": {},
   "outputs": [],
   "source": [
    "_input , _target =  next(iter(dataloader))\n",
    "_input , _target = _input.to(device) , _target.to(device)"
   ]
  },
  {
   "cell_type": "code",
   "execution_count": 29,
   "metadata": {},
   "outputs": [
    {
     "data": {
      "text/plain": [
       "torch.Size([2, 20, 1])"
      ]
     },
     "execution_count": 29,
     "metadata": {},
     "output_type": "execute_result"
    }
   ],
   "source": [
    "model(_input).shape"
   ]
  },
  {
   "cell_type": "code",
   "execution_count": 32,
   "metadata": {},
   "outputs": [],
   "source": [
    "lr = 1e-3\n",
    "criterion = nn.MSELoss()\n",
    "optimizer = torch.optim.AdamW(model.parameters(), lr=lr)\n",
    "scheduler = torch.optim.lr_scheduler.StepLR(optimizer, 1.0, gamma=0.95)\n",
    "tr_dataloader = DataLoader(tr_dataset, batch_size=32, shuffle=True)\n",
    "va_dataloader = DataLoader(va_dataset, batch_size=32, shuffle=False)"
   ]
  },
  {
   "cell_type": "code",
   "execution_count": null,
   "metadata": {},
   "outputs": [],
   "source": [
    "epoch = 1 "
   ]
  },
  {
   "cell_type": "markdown",
   "metadata": {},
   "source": [
    "# Train"
   ]
  },
  {
   "cell_type": "code",
   "execution_count": 39,
   "metadata": {},
   "outputs": [
    {
     "name": "stderr",
     "output_type": "stream",
     "text": [
      "[50][99.80%] : 0.000 / validation loss : 0.05319:  56%|█████▌    | 50/90 [03:21<02:57,  4.44s/it]"
     ]
    }
   ],
   "source": [
    "\n",
    "\n",
    "n_epoch = 100\n",
    "total_n_batch = len(dataloader)\n",
    "pbar = tqdm(range(epoch,n_epoch),desc=\"start\")\n",
    "va_loss = np.inf\n",
    "for epoch in pbar :\n",
    "    model.train()\n",
    "    total_loss = 0\n",
    "    for batch_idx , samples in enumerate(dataloader) :\n",
    "        optimizer.zero_grad()\n",
    "        x_train , y_train = samples \n",
    "        pred = model(x_train.to(device))\n",
    "        loss = criterion(y_train.to(device), pred)\n",
    "        loss.backward()\n",
    "        torch.nn.utils.clip_grad_norm_(model.parameters(), 0.7)\n",
    "        optimizer.step()\n",
    "        total_loss += loss.item()\n",
    "        cur_loss = total_loss / (batch_idx+1)\n",
    "        percent = (batch_idx / total_n_batch) * 100\n",
    "        pbar.set_description(f\"[{epoch:02d}][{percent:05.2f}%] : {cur_loss:.3f} / validation loss : {va_loss:.5f}\")\n",
    "    else :\n",
    "        pbar.update(1)\n",
    "        scheduler.step()\n",
    "    \n",
    "    if epoch % 10 == 0 == 0:\n",
    "        va_loss = plot_and_loss(model, va_dataloader,epoch, \"time2vec_transformer\",device=device)\n"
   ]
  },
  {
   "cell_type": "code",
   "execution_count": null,
   "metadata": {},
   "outputs": [],
   "source": []
  }
 ],
 "metadata": {
  "interpreter": {
   "hash": "52a68c2a148ebc02ac78aa029d1414d862510e50f8ff50093d17df9b45644ead"
  },
  "kernelspec": {
   "display_name": "Python 3.8.12 ('ts')",
   "language": "python",
   "name": "python3"
  },
  "language_info": {
   "codemirror_mode": {
    "name": "ipython",
    "version": 3
   },
   "file_extension": ".py",
   "mimetype": "text/x-python",
   "name": "python",
   "nbconvert_exporter": "python",
   "pygments_lexer": "ipython3",
   "version": "3.8.12"
  },
  "orig_nbformat": 4
 },
 "nbformat": 4,
 "nbformat_minor": 2
}
